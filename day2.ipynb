{
 "cells": [
  {
   "cell_type": "code",
   "execution_count": 35,
   "id": "4384c4b8",
   "metadata": {},
   "outputs": [
    {
     "name": "stdout",
     "output_type": "stream",
     "text": [
      "4.663427953342812\n",
      "Coefficient of TV is 4.6634\n",
      "Intercept: 15.3101\n",
      "MSE: 6.0943\n",
      "RMSE: 2.4687\n"
     ]
    },
    {
     "name": "stderr",
     "output_type": "stream",
     "text": [
      "C:\\Users\\shalom hosheya\\AppData\\Roaming\\Python\\Python313\\site-packages\\sklearn\\utils\\validation.py:1408: DataConversionWarning: A column-vector y was passed when a 1d array was expected. Please change the shape of y to (n_samples, ), for example using ravel().\n",
      "  y = column_or_1d(y, warn=True)\n"
     ]
    }
   ],
   "source": [
    "import pandas as pd\n",
    "import numpy as np\n",
    "from sklearn.linear_model import LinearRegression \n",
    "from sklearn.model_selection import train_test_split as ts\n",
    "from sklearn.preprocessing import StandardScaler\n",
    "from sklearn.linear_model import SGDRegressor\n",
    "import matplotlib.pyplot as plt\n",
    "import seaborn as sns\n",
    "\n",
    "sns.set_style('whitegrid')\n",
    "\n",
    "pf = pd.read_csv('advertising.csv')\n",
    "pf.head()\n",
    "\n",
    "x = pf[['TV']]\n",
    "y = pf[['Sales']]\n",
    "\n",
    "x_train , x_test , y_train ,y_test = ts(x,y,test_size=0.2,random_state=42)\n",
    "\n",
    "x_train.shape\n",
    "x_test.shape\n",
    "\n",
    "model = LinearRegression()\n",
    "model.fit(x_train,y_train)\n",
    "\n",
    "# print('\\n',model.coef_[0])\n",
    "# print('\\n',model.intercept_)\n",
    "\n",
    "scaler = StandardScaler()\n",
    "x_train = scaler.fit_transform(x_train)\n",
    "x_test = scaler.transform(x_test)\n",
    "\n",
    "\n",
    "# print(x_test)\n",
    "# print(x_train)\n",
    "\n",
    "sgd_model = SGDRegressor(max_iter=5000 , random_state=42)\n",
    "sgd_model.fit(x_train,y_train)\n",
    "\n",
    "print(sgd_model.coef_[0])\n",
    "\n",
    "intercept = sgd_model.intercept_\n",
    "coeffiecient = sgd_model.coef_\n",
    "\n",
    "\n",
    "print(f\"Coefficient of TV is {coeffiecient[0]:.4f}\")\n",
    "print(f\"Intercept: {intercept[0]:.4f}\")\n",
    "\n",
    "y_predict = sgd_model.predict(x_test)\n",
    "\n",
    "mse_value = metrics.mean_squared_error(y_test,y_predict)\n",
    "print(f\"MSE: {mse_value:.4f}\")\n",
    "\n",
    "\n",
    "rmse_value = np.sqrt(mse_value)\n",
    "print(f\"RMSE: {rmse_value:.4f}\")"
   ]
  }
 ],
 "metadata": {
  "kernelspec": {
   "display_name": "Python 3",
   "language": "python",
   "name": "python3"
  },
  "language_info": {
   "codemirror_mode": {
    "name": "ipython",
    "version": 3
   },
   "file_extension": ".py",
   "mimetype": "text/x-python",
   "name": "python",
   "nbconvert_exporter": "python",
   "pygments_lexer": "ipython3",
   "version": "3.13.0"
  }
 },
 "nbformat": 4,
 "nbformat_minor": 5
}
