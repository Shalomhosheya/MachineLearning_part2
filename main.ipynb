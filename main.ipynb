{
 "cells": [
  {
   "cell_type": "code",
   "execution_count": 21,
   "id": "e27c49c3",
   "metadata": {},
   "outputs": [
    {
     "name": "stdout",
     "output_type": "stream",
     "text": [
      "   X\n",
      "0  1\n",
      "1  2\n",
      "2  3\n",
      "3  4\n",
      "4  5 \n",
      "\n",
      "0     2\n",
      "1     4\n",
      "2     6\n",
      "3     7\n",
      "4    10\n",
      "Name: y, dtype: int64 \n",
      "\n",
      "\n",
      " 1.9000000000000004 \n",
      "\n",
      "\n",
      " 0.09999999999999876 \n",
      "\n",
      "[13.4]\n"
     ]
    },
    {
     "name": "stderr",
     "output_type": "stream",
     "text": [
      "C:\\Users\\shalom hosheya\\AppData\\Roaming\\Python\\Python313\\site-packages\\sklearn\\utils\\validation.py:2739: UserWarning: X does not have valid feature names, but LinearRegression was fitted with feature names\n",
      "  warnings.warn(\n"
     ]
    }
   ],
   "source": [
    "import pandas as pd\n",
    "import numpy as np\n",
    "from sklearn.linear_model import LinearRegression\n",
    "\n",
    "data = {\n",
    "    \"X\": [1, 2, 3, 4, 5],\n",
    "    \"y\": [2, 4, 6, 7, 10]\n",
    "} \n",
    "\n",
    "df=pd.DataFrame(data)\n",
    "\n",
    "\n",
    "X = df[['X']] #2d dataframe \n",
    "print(X,'\\n')\n",
    "\n",
    "y = df['y'] #1d dataframe\n",
    "print(y,'\\n')\n",
    "\n",
    "model = LinearRegression()\n",
    "model.fit(X, y)\n",
    "#y = w0+w1*x\n",
    "\n",
    "print('\\n',model.coef_[0],'\\n') #slope or tangen\n",
    "print('\\n',model.intercept_,'\\n') #intercept\n",
    "\n",
    "# t = model.coef_[0]\n",
    "# i = model.intercept_\n",
    "value = 7\n",
    "\n",
    "# print('\\n',i+t*value,'\\n')\n",
    "\n",
    "g = model.predict([[value]])\n",
    "print(g)\n",
    "\n"
   ]
  },
  {
   "cell_type": "code",
   "execution_count": 24,
   "id": "4b2b59d1",
   "metadata": {},
   "outputs": [
    {
     "name": "stdout",
     "output_type": "stream",
     "text": [
      "        TV  Radio  Newspaper  Sales\n",
      "0    230.1   37.8       69.2   22.1\n",
      "1     44.5   39.3       45.1   10.4\n",
      "2     17.2   45.9       69.3   12.0\n",
      "3    151.5   41.3       58.5   16.5\n",
      "4    180.8   10.8       58.4   17.9\n",
      "..     ...    ...        ...    ...\n",
      "195   38.2    3.7       13.8    7.6\n",
      "196   94.2    4.9        8.1   14.0\n",
      "197  177.0    9.3        6.4   14.8\n",
      "198  283.6   42.0       66.2   25.5\n",
      "199  232.1    8.6        8.7   18.4\n",
      "\n",
      "[200 rows x 4 columns]\n"
     ]
    },
    {
     "data": {
      "text/plain": [
       "<module 'seaborn' from 'C:\\\\Users\\\\shalom hosheya\\\\AppData\\\\Roaming\\\\Python\\\\Python313\\\\site-packages\\\\seaborn\\\\__init__.py'>"
      ]
     },
     "execution_count": 24,
     "metadata": {},
     "output_type": "execute_result"
    }
   ],
   "source": [
    "import seaborn as sb\n",
    "df= pd.read_csv('advertising.csv')\n",
    "print(df)\n",
    "\n",
    "sb"
   ]
  },
  {
   "cell_type": "code",
   "execution_count": 29,
   "id": "1b328874",
   "metadata": {},
   "outputs": [],
   "source": [
    "import pandas as pd\n",
    "import matplotlib.pyplot as plt\n",
    "import seaborn as sns\n",
    "from sklearn.model_selection import train_test_split\n",
    "from sklearn.linear_model import LinearRegression\n",
    "from sklearn.model_selection import train_test_split\n",
    "\n",
    "sns.set_style('whitegrid')\n",
    "\n"
   ]
  }
 ],
 "metadata": {
  "kernelspec": {
   "display_name": "Python 3",
   "language": "python",
   "name": "python3"
  },
  "language_info": {
   "codemirror_mode": {
    "name": "ipython",
    "version": 3
   },
   "file_extension": ".py",
   "mimetype": "text/x-python",
   "name": "python",
   "nbconvert_exporter": "python",
   "pygments_lexer": "ipython3",
   "version": "3.13.0"
  }
 },
 "nbformat": 4,
 "nbformat_minor": 5
}
