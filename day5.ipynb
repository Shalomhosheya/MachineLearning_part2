{
 "cells": [
  {
   "cell_type": "code",
   "execution_count": 33,
   "id": "2a0bf9cf",
   "metadata": {},
   "outputs": [
    {
     "name": "stdout",
     "output_type": "stream",
     "text": [
      "dataset loaded successfully\n",
      "[[0 0 0 ... 0 0 0]\n",
      " [0 0 0 ... 0 0 0]\n",
      " [0 0 0 ... 0 0 0]\n",
      " ...\n",
      " [0 0 0 ... 0 0 0]\n",
      " [0 0 0 ... 0 0 0]\n",
      " [0 0 0 ... 0 0 0]]\n",
      "<class 'numpy.ndarray'>\n",
      "Shape of X: (70000, 784)\n",
      "--------------------------\n",
      "['5' '0' '4' ... '4' '5' '6']\n",
      "<class 'numpy.ndarray'>\n",
      "Shape of y: (70000,)\n"
     ]
    },
    {
     "data": {
      "image/png": "[encoded data removed]",
      "text/plain": [
       "<Figure size 640x480 with 1 Axes>"
      ]
     },
     "metadata": {},
     "output_type": "display_data"
    }
   ],
   "source": [
    "import ssl\n",
    "# For data loading and manipulation\n",
    "from sklearn.datasets import fetch_openml\n",
    "import numpy as np\n",
    "\n",
    "# For building and training the model\n",
    "from sklearn.linear_model import LogisticRegression\n",
    "from sklearn.model_selection import train_test_split\n",
    "\n",
    "# For evaluation and visualization\n",
    "from sklearn.metrics import accuracy_score, ConfusionMatrixDisplay\n",
    "import matplotlib.pyplot as plt\n",
    "\n",
    "\n",
    "\n",
    "try:\n",
    "    _create_unverified_https_context = ssl._create_unverified_context\n",
    "except AttributeError:\n",
    "    pass\n",
    "else:\n",
    "    ssl._create_default_https_context = _create_unverified_https_context\n",
    "\n",
    "\n",
    "mnist = fetch_openml('mnist_784',version=1,as_frame=False,parser='auto')\n",
    "x,y = mnist.data , mnist.target\n",
    "print(\"dataset loaded successfully\")\n",
    "\n",
    "\n",
    "print(x)\n",
    "print(type(x))\n",
    "print(\"Shape of X:\",x.shape)\n",
    "\n",
    "print(\"--------------------------\")\n",
    "\n",
    "print(y)\n",
    "print(type(y))\n",
    "print(\"Shape of y:\",y.shape)\n",
    "\n",
    "some_digits_index = 0 \n",
    "some_digits_index_image = x[some_digits_index].reshape(28,28)\n",
    "true_label = y[some_digits_index]\n",
    "\n",
    "plt.imshow(some_digits_index_image,cmap=\"binary\")\n",
    "plt.title(f\"True label: {true_label}\")\n",
    "plt.axis(\"off\")\n",
    "plt.show()\n"
   ]
  }
 ],
 "metadata": {
  "kernelspec": {
   "display_name": "Python 3",
   "language": "python",
   "name": "python3"
  },
  "language_info": {
   "codemirror_mode": {
    "name": "ipython",
    "version": 3
   },
   "file_extension": ".py",
   "mimetype": "text/x-python",
   "name": "python",
   "nbconvert_exporter": "python",
   "pygments_lexer": "ipython3",
   "version": "3.13.0"
  }
 },
 "nbformat": 4,
 "nbformat_minor": 5
}
