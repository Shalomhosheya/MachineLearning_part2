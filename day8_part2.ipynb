{
 "cells": [
  {
   "cell_type": "code",
   "execution_count": null,
   "id": "91959a50",
   "metadata": {},
   "outputs": [],
   "source": [
    "from google.cloud import aiplatform\n",
    "\n",
    "project_id = \"quantum-hash-470603-r9\" #project name select a project\n",
    "location = \"us-central1\"\n",
    "endpoint_id = \"2015944673922646016\" #endpoint id\n",
    "\n",
    "aiplatform.init(project=project_id,location=location)\n",
    "\n",
    "endpoint = aiplatform.Endpoint(endpoint_name=endpoint_id)"
   ]
  }
 ],
 "metadata": {
  "language_info": {
   "name": "python"
  }
 },
 "nbformat": 4,
 "nbformat_minor": 5
}
